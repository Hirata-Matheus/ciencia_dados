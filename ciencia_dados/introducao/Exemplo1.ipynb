{
 "cells": [
  {
   "cell_type": "markdown",
   "id": "3ef99f8a-0755-49dc-84bf-022016b4ddb8",
   "metadata": {},
   "source": [
    "# Testando o ambiente\n",
    "Trecho em markdown.\n",
    "*italico*\n",
    "**negrito**\n",
    "```\n",
    "Informação muito importante\n",
    "```\n",
    "Importando pacotes principais"
   ]
  },
  {
   "cell_type": "code",
   "execution_count": 5,
   "id": "a849901f-d680-4347-8ea6-9aac9456eeda",
   "metadata": {},
   "outputs": [],
   "source": [
    "import pandas as pd\n",
    "import numpy as np\n",
    "import seaborn as sn"
   ]
  },
  {
   "cell_type": "code",
   "execution_count": 7,
   "id": "7f69ad17-8724-4ebf-ad73-6dfeb8c20530",
   "metadata": {},
   "outputs": [
    {
     "name": "stdout",
     "output_type": "stream",
     "text": [
      "Hello World!\n"
     ]
    }
   ],
   "source": [
    "print('Hello World!')"
   ]
  },
  {
   "cell_type": "markdown",
   "id": "1c0a3e72-3f36-47df-adb3-d622dabe0c12",
   "metadata": {},
   "source": [
    "Cria um Objeto do tipo série (Series)"
   ]
  },
  {
   "cell_type": "code",
   "execution_count": 9,
   "id": "03680979-6344-470d-9c5a-fc9347e08091",
   "metadata": {},
   "outputs": [
    {
     "data": {
      "text/plain": [
       "0    1.0\n",
       "1    3.0\n",
       "2    5.0\n",
       "3    NaN\n",
       "4    6.0\n",
       "5    8.0\n",
       "dtype: float64"
      ]
     },
     "execution_count": 9,
     "metadata": {},
     "output_type": "execute_result"
    }
   ],
   "source": [
    "s = pd.Series([1, 3, 5, np.nan, 6, 8])\n",
    "s"
   ]
  },
  {
   "cell_type": "code",
   "execution_count": 11,
   "id": "eb6bcb67-3b03-46f1-ab69-4d0fa8568f5f",
   "metadata": {},
   "outputs": [
    {
     "data": {
      "text/plain": [
       "DatetimeIndex(['2022-08-11', '2022-08-12', '2022-08-13', '2022-08-14',\n",
       "               '2022-08-15', '2022-08-16'],\n",
       "              dtype='datetime64[ns]', freq='D')"
      ]
     },
     "execution_count": 11,
     "metadata": {},
     "output_type": "execute_result"
    }
   ],
   "source": [
    "dates = pd.date_range(\"20220811\", periods=6)\n",
    "dates"
   ]
  },
  {
   "cell_type": "code",
   "execution_count": 12,
   "id": "abe6472d-26f3-47c8-a90d-89c105f78f91",
   "metadata": {},
   "outputs": [
    {
     "data": {
      "text/html": [
       "<div>\n",
       "<style scoped>\n",
       "    .dataframe tbody tr th:only-of-type {\n",
       "        vertical-align: middle;\n",
       "    }\n",
       "\n",
       "    .dataframe tbody tr th {\n",
       "        vertical-align: top;\n",
       "    }\n",
       "\n",
       "    .dataframe thead th {\n",
       "        text-align: right;\n",
       "    }\n",
       "</style>\n",
       "<table border=\"1\" class=\"dataframe\">\n",
       "  <thead>\n",
       "    <tr style=\"text-align: right;\">\n",
       "      <th></th>\n",
       "      <th>A</th>\n",
       "      <th>B</th>\n",
       "      <th>C</th>\n",
       "      <th>D</th>\n",
       "    </tr>\n",
       "  </thead>\n",
       "  <tbody>\n",
       "    <tr>\n",
       "      <th>2022-08-11</th>\n",
       "      <td>-0.203969</td>\n",
       "      <td>-0.305332</td>\n",
       "      <td>1.092324</td>\n",
       "      <td>1.617634</td>\n",
       "    </tr>\n",
       "    <tr>\n",
       "      <th>2022-08-12</th>\n",
       "      <td>1.033726</td>\n",
       "      <td>-0.235410</td>\n",
       "      <td>0.201394</td>\n",
       "      <td>-0.986403</td>\n",
       "    </tr>\n",
       "    <tr>\n",
       "      <th>2022-08-13</th>\n",
       "      <td>-2.884948</td>\n",
       "      <td>0.793316</td>\n",
       "      <td>-1.266105</td>\n",
       "      <td>0.670140</td>\n",
       "    </tr>\n",
       "    <tr>\n",
       "      <th>2022-08-14</th>\n",
       "      <td>-1.498198</td>\n",
       "      <td>1.630818</td>\n",
       "      <td>-0.284560</td>\n",
       "      <td>0.628841</td>\n",
       "    </tr>\n",
       "    <tr>\n",
       "      <th>2022-08-15</th>\n",
       "      <td>-0.104680</td>\n",
       "      <td>0.222411</td>\n",
       "      <td>-0.889072</td>\n",
       "      <td>-0.188861</td>\n",
       "    </tr>\n",
       "    <tr>\n",
       "      <th>2022-08-16</th>\n",
       "      <td>0.278323</td>\n",
       "      <td>0.679820</td>\n",
       "      <td>-0.062229</td>\n",
       "      <td>1.526897</td>\n",
       "    </tr>\n",
       "  </tbody>\n",
       "</table>\n",
       "</div>"
      ],
      "text/plain": [
       "                   A         B         C         D\n",
       "2022-08-11 -0.203969 -0.305332  1.092324  1.617634\n",
       "2022-08-12  1.033726 -0.235410  0.201394 -0.986403\n",
       "2022-08-13 -2.884948  0.793316 -1.266105  0.670140\n",
       "2022-08-14 -1.498198  1.630818 -0.284560  0.628841\n",
       "2022-08-15 -0.104680  0.222411 -0.889072 -0.188861\n",
       "2022-08-16  0.278323  0.679820 -0.062229  1.526897"
      ]
     },
     "execution_count": 12,
     "metadata": {},
     "output_type": "execute_result"
    }
   ],
   "source": [
    "df = pd.DataFrame(np.random.randn(6, 4), index=dates, columns=list(\"ABCD\"))\n",
    "df"
   ]
  },
  {
   "cell_type": "code",
   "execution_count": 14,
   "id": "0a40eacb-5ed2-466f-81b4-bf729291b686",
   "metadata": {},
   "outputs": [
    {
     "data": {
      "text/html": [
       "<div>\n",
       "<style scoped>\n",
       "    .dataframe tbody tr th:only-of-type {\n",
       "        vertical-align: middle;\n",
       "    }\n",
       "\n",
       "    .dataframe tbody tr th {\n",
       "        vertical-align: top;\n",
       "    }\n",
       "\n",
       "    .dataframe thead th {\n",
       "        text-align: right;\n",
       "    }\n",
       "</style>\n",
       "<table border=\"1\" class=\"dataframe\">\n",
       "  <thead>\n",
       "    <tr style=\"text-align: right;\">\n",
       "      <th></th>\n",
       "      <th>Nota</th>\n",
       "      <th>Data</th>\n",
       "      <th>Média</th>\n",
       "      <th>Qtde</th>\n",
       "      <th>Cat</th>\n",
       "      <th>Tipo</th>\n",
       "    </tr>\n",
       "  </thead>\n",
       "  <tbody>\n",
       "    <tr>\n",
       "      <th>0</th>\n",
       "      <td>1.0</td>\n",
       "      <td>2013-01-02</td>\n",
       "      <td>1.0</td>\n",
       "      <td>3</td>\n",
       "      <td>test</td>\n",
       "      <td>foo</td>\n",
       "    </tr>\n",
       "    <tr>\n",
       "      <th>1</th>\n",
       "      <td>1.0</td>\n",
       "      <td>2013-01-02</td>\n",
       "      <td>1.0</td>\n",
       "      <td>3</td>\n",
       "      <td>train</td>\n",
       "      <td>foo</td>\n",
       "    </tr>\n",
       "    <tr>\n",
       "      <th>2</th>\n",
       "      <td>1.0</td>\n",
       "      <td>2013-01-02</td>\n",
       "      <td>1.0</td>\n",
       "      <td>3</td>\n",
       "      <td>test</td>\n",
       "      <td>foo</td>\n",
       "    </tr>\n",
       "    <tr>\n",
       "      <th>3</th>\n",
       "      <td>1.0</td>\n",
       "      <td>2013-01-02</td>\n",
       "      <td>1.0</td>\n",
       "      <td>3</td>\n",
       "      <td>train</td>\n",
       "      <td>foo</td>\n",
       "    </tr>\n",
       "  </tbody>\n",
       "</table>\n",
       "</div>"
      ],
      "text/plain": [
       "   Nota       Data  Média  Qtde    Cat Tipo\n",
       "0   1.0 2013-01-02    1.0     3   test  foo\n",
       "1   1.0 2013-01-02    1.0     3  train  foo\n",
       "2   1.0 2013-01-02    1.0     3   test  foo\n",
       "3   1.0 2013-01-02    1.0     3  train  foo"
      ]
     },
     "execution_count": 14,
     "metadata": {},
     "output_type": "execute_result"
    }
   ],
   "source": [
    "df2 = pd.DataFrame(\n",
    "    {\n",
    "        \"Nota\": 1.0,\n",
    "        \"Data\": pd.Timestamp(\"20130102\"),\n",
    "        \"Média\": pd.Series(1, index=list(range(4)), dtype=\"float32\"),\n",
    "        \"Qtde\": np.array([3] * 4, dtype=\"int32\"),\n",
    "        \"Cat\": pd.Categorical([\"test\", \"train\", \"test\", \"train\"]),\n",
    "        \"Tipo\": \"foo\",\n",
    "    }\n",
    ")\n",
    "df2"
   ]
  }
 ],
 "metadata": {
  "kernelspec": {
   "display_name": "Python 3 (ipykernel)",
   "language": "python",
   "name": "python3"
  },
  "language_info": {
   "codemirror_mode": {
    "name": "ipython",
    "version": 3
   },
   "file_extension": ".py",
   "mimetype": "text/x-python",
   "name": "python",
   "nbconvert_exporter": "python",
   "pygments_lexer": "ipython3",
   "version": "3.10.5"
  }
 },
 "nbformat": 4,
 "nbformat_minor": 5
}
